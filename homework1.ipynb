{
 "cells": [
  {
   "cell_type": "markdown",
   "metadata": {},
   "source": [
    "## 1. Download the “Sunny Lake” image. "
   ]
  },
  {
   "cell_type": "code",
   "execution_count": null,
   "metadata": {},
   "outputs": [],
   "source": [
    "import numpy as np\n",
    "import matplotlib.image as image\n",
    "import matplotlib.pyplot as pyplot\n",
    "\n",
    "sunny_lake = image.imread(\"SunnyLake.bmp\")\n",
    "pyplot.imshow(sunny_lake)\n",
    "pyplot.show()"
   ]
  },
  {
   "cell_type": "markdown",
   "metadata": {},
   "source": [
    "## 2. Obtain the gray scale image, I, by taking the average values of R, G, B channels.\n"
   ]
  },
  {
   "cell_type": "code",
   "execution_count": null,
   "metadata": {},
   "outputs": [],
   "source": [
    "I = np.mean(sunny_lake.reshape(120000, 3), axis=1).reshape(300, 400)\n",
    "pyplot.imshow(I, cmap=\"gray\")"
   ]
  },
  {
   "cell_type": "markdown",
   "metadata": {},
   "source": [
    "## 3. Obtain the histogram, h, of the gray scale image, I"
   ]
  },
  {
   "cell_type": "code",
   "execution_count": null,
   "metadata": {},
   "outputs": [],
   "source": [
    "h = pyplot.hist(I.flatten(), 255)"
   ]
  },
  {
   "cell_type": "markdown",
   "metadata": {},
   "source": [
    "## 4. Inspect h and propose a threshold value, T, to segment the image into two parts and hence obtain a binary image, B:\n",
    "\n",
    " * Part I: Pixels with intensity values above T.\n",
    "\n",
    " * Part II: Pixels with intensity values below T."
   ]
  },
  {
   "cell_type": "code",
   "execution_count": null,
   "metadata": {},
   "outputs": [],
   "source": [
    "fig, axs = pyplot.subplots(1, 3)\n",
    "fig.set_size_inches(20, 5)\n",
    "\n",
    "axs[0].set_title(\"Grayscale Image I\")\n",
    "axs[0].imshow(I, cmap=\"gray\") \n",
    "\n",
    "T = 55 # Value sepereates the background from the forground best.\n",
    "\n",
    "axs[1].imshow(I > T)\n",
    "axs[1].set_title(f\"I > T = {T}\") \n",
    "axs[2].imshow(I < T)\n",
    "axs[2].set_title(f\"I > T = {T}\") "
   ]
  },
  {
   "cell_type": "markdown",
   "metadata": {},
   "source": [
    "## 6. Add the following zero mean Gaussian noises, separately to red, green and blue channels of 256x256 colored \"Sunny Lake\" image, with standard deviations of 1, 5, 10, 20. Show resulting images."
   ]
  },
  {
   "cell_type": "code",
   "execution_count": null,
   "metadata": {},
   "outputs": [],
   "source": [
    "fig, axs = pyplot.subplots(1, 5)\n",
    "fig.set_size_inches(20, 5)\n",
    "\n",
    "# Gaussian noise with sigma 1.0\n",
    "n_std1 = np.random.normal(0, scale=1.0, size=(300, 400)).astype(\"uint8\")\n",
    "sunny_lake_std1 = np.copy(sunny_lake)\n",
    "sunny_lake_std1[::,::,0] += n_std1\n",
    "sunny_lake_std1[::,::,1] += n_std1\n",
    "sunny_lake_std1[::,::,2] += n_std1\n",
    "\n",
    "# Gaussian noise with sigma 5.0\n",
    "n_std5 = np.random.normal(0, scale=5.0, size=(300, 400)).astype(\"uint8\")\n",
    "sunny_lake_std5 = np.copy(sunny_lake)\n",
    "sunny_lake_std5[::,::,0] += n_std5\n",
    "sunny_lake_std5[::,::,1] += n_std5\n",
    "sunny_lake_std5[::,::,2] += n_std5\n",
    "\n",
    "\n",
    "# Gaussian noise with sigma 10.0\n",
    "n_std10 = np.random.normal(0, scale=10.0, size=(300, 400)).astype(\"uint8\")\n",
    "sunny_lake_std10 = np.copy(sunny_lake)\n",
    "sunny_lake_std10[::,::,0] += n_std10\n",
    "sunny_lake_std10[::,::,1] += n_std10\n",
    "sunny_lake_std10[::,::,2] += n_std10\n",
    "\n",
    "# Gaussian noise with sigma 20.0\n",
    "n_std20 = np.random.normal(0, scale=20.0, size=(300, 400)).astype(\"uint8\")\n",
    "sunny_lake_std20 = np.copy(sunny_lake)\n",
    "sunny_lake_std20[::,::,0] += n_std20\n",
    "sunny_lake_std20[::,::,1] += n_std20\n",
    "sunny_lake_std20[::,::,2] += n_std20\n",
    "\n",
    "axs[0].set_title(f\"Original\")\n",
    "axs[0].imshow(sunny_lake) \n",
    "\n",
    "axs[1].set_title(f\"Mean: 1.0\")\n",
    "axs[1].imshow(sunny_lake_std1) \n",
    "\n",
    "axs[2].set_title(f\"Mean: 5.0\")\n",
    "axs[2].imshow(sunny_lake_std5) \n",
    "\n",
    "axs[3].set_title(f\"Mean: 10.0\")\n",
    "axs[3].imshow(sunny_lake_std10) \n",
    "\n",
    "axs[4].set_title(f\"Mean: 20.0\")\n",
    "axs[4].imshow(sunny_lake_std20) "
   ]
  },
  {
   "cell_type": "markdown",
   "metadata": {},
   "source": [
    "## 7. Obtain gray scale images, I_1, I_5, I_10 and I_20 by taking the average values of R, G, B channels corresponding to different noise levels."
   ]
  },
  {
   "cell_type": "code",
   "execution_count": null,
   "metadata": {},
   "outputs": [],
   "source": [
    "fig, axs = pyplot.subplots(1, 5)\n",
    "fig.set_size_inches(20, 5)\n",
    "\n",
    "I_1 = np.mean(sunny_lake_std1.reshape(120000, 3), axis=1).reshape(300, 400)\n",
    "I_5 = np.mean(sunny_lake_std5.reshape(120000, 3), axis=1).reshape(300, 400)\n",
    "I_10 = np.mean(sunny_lake_std10.reshape(120000, 3), axis=1).reshape(300, 400)\n",
    "I_20 = np.mean(sunny_lake_std20.reshape(120000, 3), axis=1).reshape(300, 400)\n",
    "\n",
    "axs[0].set_title(f\"Original\")\n",
    "axs[0].imshow(I, cmap=\"gray\") \n",
    "\n",
    "axs[1].set_title(f\"Mean: 1.0\")\n",
    "axs[1].imshow(I_1, cmap=\"gray\") \n",
    "\n",
    "axs[2].set_title(f\"Mean: 5.0\")\n",
    "axs[2].imshow(I_5, cmap=\"gray\") \n",
    "\n",
    "axs[3].set_title(f\"Mean: 10.0\")\n",
    "axs[3].imshow(I_10, cmap=\"gray\") \n",
    "\n",
    "axs[4].set_title(f\"Mean: 20.0\")\n",
    "axs[4].imshow(I_20, cmap=\"gray\") "
   ]
  },
  {
   "cell_type": "markdown",
   "metadata": {},
   "source": [
    "## 8. Filter these images using low-pass filters with kernels presented on pages 9 and 12 of “filter.pdf” document. Comment on the results."
   ]
  },
  {
   "cell_type": "code",
   "execution_count": null,
   "metadata": {
    "tags": [
     "outputPrepend",
     "outputPrepend"
    ]
   },
   "outputs": [],
   "source": [
    "fig, axs = pyplot.subplots(1, 5)\n",
    "fig.set_size_inches(20, 5)\n",
    "\n",
    "def apply_filter(pixel_array, filter_function, grid_size):\n",
    "    x_size = pixel_array.shape[0]\n",
    "    y_size = pixel_array.shape[1]\n",
    "\n",
    "    assert grid_size % 2 is 1\n",
    "    mid = grid_size // 2\n",
    "    \n",
    "    return np.array([filter_function(pixel_array[max(0, x-mid):min(x_size, x+mid+1), max(0, y-mid):min(y_size, y+mid+1)]) for x in range(x_size) for y in range(y_size)])\n",
    "\n",
    "def h1_filter(sub_array):\n",
    "    h1 = np.ones((3, 3))/9\n",
    "    if sub_array.shape != (3, 3):\n",
    "        return np.average(sub_array).astype(\"uint8\")\n",
    "    return np.sum(sub_array*h1)\n",
    "\n",
    "I_1_h1 = apply_filter(I_1, h1_filter, 3).reshape(300, 400)\n",
    "I_5_h1 = apply_filter(I_5, h1_filter, 3).reshape(300, 400)\n",
    "I_10_h1 = apply_filter(I_5, h1_filter, 3).reshape(300, 400)\n",
    "I_20_h1 = apply_filter(I_5, h1_filter, 3).reshape(300, 400)\n",
    "\n",
    "\n",
    "axs[0].set_title(f\"Original\")\n",
    "axs[0].imshow(I, cmap=\"gray\") \n",
    "\n",
    "axs[1].set_title(f\"I_1_h1\")\n",
    "axs[1].imshow(I_1_h1, cmap=\"gray\") \n",
    "\n",
    "axs[2].set_title(f\"I_5_h1\")\n",
    "axs[2].imshow(I_5_h1, cmap=\"gray\") \n",
    "\n",
    "axs[3].set_title(f\"I_10_h1\")\n",
    "axs[3].imshow(I_10_h1, cmap=\"gray\") \n",
    "\n",
    "axs[4].set_title(f\"I_20_h1\")\n",
    "axs[4].imshow(I_20_h1, cmap=\"gray\") "
   ]
  },
  {
   "cell_type": "code",
   "execution_count": null,
   "metadata": {},
   "outputs": [],
   "source": [
    "fig, axs = pyplot.subplots(1, 5)\n",
    "fig.set_size_inches(20, 5)\n",
    "\n",
    "def h2_filter(sub_array):\n",
    "    h2 = np.ones((5, 5))/25\n",
    "    if sub_array.shape != (5, 5):\n",
    "        return np.average(sub_array).astype(\"uint8\")\n",
    "    return np.sum(sub_array*h2)\n",
    "\n",
    "I_1_h2 = apply_filter(I_1, h2_filter, 5).reshape(300, 400)\n",
    "I_5_h2 = apply_filter(I_5, h2_filter, 5).reshape(300, 400)\n",
    "I_10_h2 = apply_filter(I_5, h2_filter, 5).reshape(300, 400)\n",
    "I_20_h2 = apply_filter(I_5, h2_filter, 5).reshape(300, 400)\n",
    "\n",
    "\n",
    "axs[0].set_title(f\"Original\")\n",
    "axs[0].imshow(I, cmap=\"gray\") \n",
    "\n",
    "axs[1].set_title(f\"I_1_h2\")\n",
    "axs[1].imshow(I_1_h2, cmap=\"gray\") \n",
    "\n",
    "axs[2].set_title(f\"I_5_h2\")\n",
    "axs[2].imshow(I_5_h2, cmap=\"gray\") \n",
    "\n",
    "axs[3].set_title(f\"I_10_h2\")\n",
    "axs[3].imshow(I_10_h2, cmap=\"gray\") \n",
    "\n",
    "axs[4].set_title(f\"I_20_h2\")\n",
    "axs[4].imshow(I_20_h2, cmap=\"gray\") \n"
   ]
  },
  {
   "cell_type": "code",
   "execution_count": null,
   "metadata": {},
   "outputs": [],
   "source": [
    "fig, axs = pyplot.subplots(1, 5)\n",
    "fig.set_size_inches(20, 5)\n",
    "\n",
    "def h_gauss_filter(sub_array):\n",
    "    h_gauss = np.array([[1,2,1], [2,4,2], [1,2,1]])\n",
    "    if sub_array.shape != (3, 3):\n",
    "        return np.average(sub_array).astype(\"uint8\")\n",
    "    return np.sum(sub_array*h_gauss)\n",
    "\n",
    "I_1_gauss = apply_filter(I_1, h_gauss_filter, 3).reshape(300, 400)\n",
    "I_5_gauss = apply_filter(I_5, h_gauss_filter, 3).reshape(300, 400)\n",
    "I_10_gauss = apply_filter(I_5, h_gauss_filter, 3).reshape(300, 400)\n",
    "I_20_gauss = apply_filter(I_5, h_gauss_filter, 3).reshape(300, 400)\n",
    "\n",
    "\n",
    "axs[0].set_title(f\"Original\")\n",
    "axs[0].imshow(I, cmap=\"gray\") \n",
    "\n",
    "axs[1].set_title(f\"I_1_gauss\")\n",
    "axs[1].imshow(I_1_gauss, cmap=\"gray\") \n",
    "\n",
    "axs[2].set_title(f\"I_5_gauss\")\n",
    "axs[2].imshow(I_5_gauss, cmap=\"gray\") \n",
    "\n",
    "axs[3].set_title(f\"I_10_gauss\")\n",
    "axs[3].imshow(I_10_gauss, cmap=\"gray\") \n",
    "\n",
    "axs[4].set_title(f\"I_20_gauss\")\n",
    "axs[4].imshow(I_20_gauss, cmap=\"gray\") "
   ]
  },
  {
   "cell_type": "markdown",
   "metadata": {},
   "source": [
    "## 9. Filter images in 7) using high-pass filters with kernels presented on pages 17 and 19 of “filter.pdf” document. Comment on the results.\n"
   ]
  },
  {
   "cell_type": "code",
   "execution_count": null,
   "metadata": {},
   "outputs": [],
   "source": [
    "fig, axs = pyplot.subplots(1, 5)\n",
    "fig.set_size_inches(20, 5)\n",
    "\n",
    "def h_h1_high_filter(sub_array):\n",
    "    h_h1_high = np.array([[-1,-1,-1], [-1,8,-1], [-1,-1,-1]])\n",
    "    if sub_array.shape != (3, 3):\n",
    "        return np.average(sub_array).astype(\"uint8\")\n",
    "    return np.sum(sub_array*h_h1_high)\n",
    "\n",
    "I_1_h1_high = apply_filter(I_1, h_h1_high_filter, 3).reshape(300, 400)\n",
    "I_5_h1_high = apply_filter(I_5, h_h1_high_filter, 3).reshape(300, 400)\n",
    "I_10_h1_high = apply_filter(I_5, h_h1_high_filter, 3).reshape(300, 400)\n",
    "I_20_h1_high = apply_filter(I_5, h_h1_high_filter, 3).reshape(300, 400)\n",
    "\n",
    "\n",
    "axs[0].set_title(f\"Original\")\n",
    "axs[0].imshow(I, cmap=\"gray\") \n",
    "\n",
    "axs[1].set_title(f\"I_1_h1_high\")\n",
    "axs[1].imshow(I_1_h1_high, cmap=\"gray\") \n",
    "\n",
    "axs[2].set_title(f\"I_5_h1_high\")\n",
    "axs[2].imshow(I_5_h1_high, cmap=\"gray\") \n",
    "\n",
    "axs[3].set_title(f\"I_10_h1_high\")\n",
    "axs[3].imshow(I_10_h1_high, cmap=\"gray\") \n",
    "\n",
    "axs[4].set_title(f\"I_20_h1_high\")\n",
    "axs[4].imshow(I_20_h1_high, cmap=\"gray\") "
   ]
  },
  {
   "cell_type": "code",
   "execution_count": null,
   "metadata": {},
   "outputs": [],
   "source": [
    "fig, axs = pyplot.subplots(1, 5)\n",
    "fig.set_size_inches(20, 5)\n",
    "\n",
    "def h_h2_high_filter(sub_array):\n",
    "    h_h2_high = np.array([[0.17,0.67,0.17], [0.67, -3.33, 0.67], [0.17,0.67,0.17]])\n",
    "    if sub_array.shape != (3, 3):\n",
    "        return np.average(sub_array).astype(\"uint8\")\n",
    "    return np.sum(sub_array*h_h2_high)\n",
    "\n",
    "I_1_h2_high = apply_filter(I_1, h_h2_high_filter, 3).reshape(300, 400)\n",
    "I_5_h2_high = apply_filter(I_5, h_h2_high_filter, 3).reshape(300, 400)\n",
    "I_10_h2_high = apply_filter(I_5, h_h2_high_filter, 3).reshape(300, 400)\n",
    "I_20_h2_high = apply_filter(I_5, h_h2_high_filter, 3).reshape(300, 400)\n",
    "\n",
    "\n",
    "axs[0].set_title(f\"Original\")\n",
    "axs[0].imshow(I, cmap=\"gray\") \n",
    "\n",
    "axs[1].set_title(f\"I_1_h2_high\")\n",
    "axs[1].imshow(I_1_h2_high, cmap=\"gray\") \n",
    "\n",
    "axs[2].set_title(f\"I_5_h2_high\")\n",
    "axs[2].imshow(I_5_h2_high, cmap=\"gray\") \n",
    "\n",
    "axs[3].set_title(f\"I_10_h2_high\")\n",
    "axs[3].imshow(I_10_h2_high, cmap=\"gray\") \n",
    "\n",
    "axs[4].set_title(f\"I_20_h2_high\")\n",
    "axs[4].imshow(I_20_h2_high, cmap=\"gray\") "
   ]
  },
  {
   "cell_type": "code",
   "execution_count": null,
   "metadata": {},
   "outputs": [],
   "source": [
    "fig, axs = pyplot.subplots(1, 5)\n",
    "fig.set_size_inches(20, 5)\n",
    "A = 1.1 #1.5 is equavalent to h2\n",
    "def h_h_high_boost_filter(sub_array):\n",
    "    h_h_high_boost = np.array([[-1,-1,-1], [-1, 9*A-1, -1], [-1,-1,-1]])\n",
    "    if sub_array.shape != (3, 3):\n",
    "        return np.average(sub_array).astype(\"uint8\")\n",
    "    return np.sum(sub_array*h_h_high_boost)\n",
    "\n",
    "I_1_h_high_boost = apply_filter(I_1, h_h_high_boost_filter, 3).reshape(300, 400)\n",
    "I_5_h_high_boost = apply_filter(I_5, h_h_high_boost_filter, 3).reshape(300, 400)\n",
    "I_10_h_high_boost = apply_filter(I_5, h_h_high_boost_filter, 3).reshape(300, 400)\n",
    "I_20_h_high_boost = apply_filter(I_5, h_h_high_boost_filter, 3).reshape(300, 400)\n",
    "\n",
    "\n",
    "axs[0].set_title(f\"Original\")\n",
    "axs[0].imshow(I, cmap=\"gray\") \n",
    "\n",
    "axs[1].set_title(f\"I_1_h_high_boost\")\n",
    "axs[1].imshow(I_1_h_high_boost, cmap=\"gray\") \n",
    "\n",
    "axs[2].set_title(f\"I_5_h_high_boost\")\n",
    "axs[2].imshow(I_5_h_high_boost, cmap=\"gray\") \n",
    "\n",
    "axs[3].set_title(f\"I_10_h_high_boost\")\n",
    "axs[3].imshow(I_10_h_high_boost, cmap=\"gray\") \n",
    "\n",
    "axs[4].set_title(f\"I_20_h_high_boost\")\n",
    "axs[4].imshow(I_20_h_high_boost, cmap=\"gray\") "
   ]
  },
  {
   "cell_type": "markdown",
   "metadata": {},
   "source": [
    "## 10. Inspect Figure-1. Comment on the type of noise and propose a method to de-noise the image. Implement your method and present the de-noised image."
   ]
  },
  {
   "cell_type": "code",
   "execution_count": null,
   "metadata": {},
   "outputs": [],
   "source": [
    "sunny_lake_salt_pepper = image.imread(\"Figure_1.png\")\n",
    "pyplot.imshow(sunny_lake_salt_pepper)\n",
    "pyplot.show()"
   ]
  },
  {
   "cell_type": "code",
   "execution_count": null,
   "metadata": {},
   "outputs": [],
   "source": [
    "sunny_lake_salt_pepper_wo_alpha = sunny_lake_salt_pepper[::,::,:3]"
   ]
  },
  {
   "cell_type": "markdown",
   "metadata": {},
   "source": [
    "Above image has what is called a salt and pepper noise."
   ]
  },
  {
   "cell_type": "code",
   "execution_count": null,
   "metadata": {},
   "outputs": [],
   "source": [
    "from scipy.ndimage.measurements import center_of_mass\n",
    "def vector_based_median(coordinates):\n",
    "    coordinates = coordinates.reshape(coordinates.size//3, 3)\n",
    "    middle_index = len(coordinates)//2 + 1\n",
    "\n",
    "    center = sum(coordinates)/coordinates[0].size\n",
    "\n",
    "    distances = sorted([(i, sum((coordinate-center)**2)) for i, coordinate in enumerate(coordinates)], key=lambda i: i[1])\n",
    "    return coordinates[distances[middle_index][0]]"
   ]
  },
  {
   "cell_type": "markdown",
   "metadata": {},
   "source": []
  },
  {
   "cell_type": "code",
   "execution_count": null,
   "metadata": {
    "tags": [
     "outputPrepend",
     "outputPrepend",
     "outputPrepend",
     "outputPrepend",
     "outputPrepend",
     "outputPrepend",
     "outputPrepend",
     "outputPrepend",
     "outputPrepend",
     "outputPrepend",
     "outputPrepend"
    ]
   },
   "outputs": [],
   "source": [
    "s = apply_filter(sunny_lake_salt_pepper_wo_alpha, vector_based_median, 3)\n",
    "pyplot.imshow(s.reshape(sunny_lake_salt_pepper_wo_alpha.shape[0], sunny_lake_salt_pepper_wo_alpha.shape[1], 3))\n"
   ]
  },
  {
   "cell_type": "markdown",
   "metadata": {},
   "source": [
    "Method reduces the noise a bit but we can increase the kernel size. The method takes substantially more time for each increase in the kernel size. It goes from sorting 9 values to 25 values for each pixel."
   ]
  },
  {
   "cell_type": "code",
   "execution_count": null,
   "metadata": {},
   "outputs": [],
   "source": [
    "s1 = apply_filter(sunny_lake_salt_pepper_wo_alpha, vector_based_median, 5)\n",
    "pyplot.imshow(s1.reshape(sunny_lake_salt_pepper_wo_alpha.shape[0], sunny_lake_salt_pepper_wo_alpha.shape[1], 3))\n"
   ]
  },
  {
   "cell_type": "markdown",
   "metadata": {},
   "source": [
    "No noise left in the image! however the sharpness of the image is gone now. The previous image was much sharper. If we assume all the noise in the image is salt and pepper. (1. and 0.) we can optimise the method a bit."
   ]
  },
  {
   "cell_type": "code",
   "execution_count": null,
   "metadata": {},
   "outputs": [],
   "source": [
    "#  Looks terriable but this essentially saying -> take goods parts of s, and for the bad parts of s take from s1.\n",
    "\n",
    "s2 = sunny_lake_salt_pepper_wo_alpha.copy()\n",
    "s2[sunny_lake_salt_pepper_wo_alpha == 1.0] = s.reshape(sunny_lake_salt_pepper_wo_alpha.shape[0], sunny_lake_salt_pepper_wo_alpha.shape[1], 3)[sunny_lake_salt_pepper_wo_alpha == 1.0]\n",
    "s2[sunny_lake_salt_pepper_wo_alpha == 0.0] = s.reshape(sunny_lake_salt_pepper_wo_alpha.shape[0], sunny_lake_salt_pepper_wo_alpha.shape[1], 3)[sunny_lake_salt_pepper_wo_alpha == 0.0]\n",
    "s2[sunny_lake_salt_pepper_wo_alpha == 1.0] = s1.reshape(sunny_lake_salt_pepper_wo_alpha.shape[0], sunny_lake_salt_pepper_wo_alpha.shape[1], 3)[sunny_lake_salt_pepper_wo_alpha == 1.0]\n",
    "s2[sunny_lake_salt_pepper_wo_alpha == 0.0] = s1.reshape(sunny_lake_salt_pepper_wo_alpha.shape[0], sunny_lake_salt_pepper_wo_alpha.shape[1], 3)[sunny_lake_salt_pepper_wo_alpha == 0.0]\n",
    "pyplot.imshow(s2.reshape(sunny_lake_salt_pepper_wo_alpha.shape[0], sunny_lake_salt_pepper_wo_alpha.shape[1], 3))\n",
    "\n"
   ]
  },
  {
   "cell_type": "markdown",
   "metadata": {},
   "source": [
    "Ta da! Takes forever but looks decent!"
   ]
  }
 ],
 "metadata": {
  "language_info": {
   "name": "python",
   "codemirror_mode": {
    "name": "ipython",
    "version": 3
   },
   "version": "3.8.1-final"
  },
  "orig_nbformat": 2,
  "file_extension": ".py",
  "mimetype": "text/x-python",
  "name": "python",
  "npconvert_exporter": "python",
  "pygments_lexer": "ipython3",
  "version": 3,
  "kernelspec": {
   "name": "python38164bitenvvenvfbda62a3109a4fcc9ffe975ff8c1d492",
   "display_name": "Python 3.8.1 64-bit ('.env': venv)"
  }
 },
 "nbformat": 4,
 "nbformat_minor": 2
}